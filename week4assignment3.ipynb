{
 "cells": [
  {
   "cell_type": "code",
   "execution_count": 1,
   "id": "671ab2de",
   "metadata": {},
   "outputs": [
    {
     "name": "stdout",
     "output_type": "stream",
     "text": [
      "I am thinking of a number between 30 and 50\n",
      " Take a guess \n",
      "35\n",
      "your guess is too low\n",
      " Take a guess \n",
      "36\n",
      "your guess is too low\n",
      " Take a guess \n",
      "38\n",
      "your guess is too high\n",
      " Take a guess \n",
      "39\n",
      "your guess is too high\n",
      " Take a guess \n",
      "32\n",
      "your guess is too low\n",
      " Take a guess \n",
      "31\n",
      "your guess is too low\n",
      " Take a guess \n",
      "30\n",
      "your guess is too low\n",
      " Take a guess \n",
      "33\n",
      "your guess is too low\n",
      " Take a guess \n",
      "34\n",
      "your guess is too low\n",
      " Take a guess \n",
      "35\n",
      "your guess is too low\n",
      " No, you were unable to guess it correctly. the number I was thinking of was 37\n"
     ]
    }
   ],
   "source": [
    "import random\n",
    "secretNumber = random.randint(30, 50)\n",
    "print(\"I am thinking of a number between 30 and 50\")\n",
    "\n",
    "for guessesTaken in range(30, 40):\n",
    "    print(\" Take a guess \")\n",
    "    guess = int(input())\n",
    "    \n",
    "    if guess < secretNumber:\n",
    "        print(\"your guess is too low\")\n",
    "    elif guess > secretNumber:\n",
    "        print(\"your guess is too high\")\n",
    "    else:\n",
    "        break\n",
    "        \n",
    "if guess == secretNumber:\n",
    "    print(\" Yes, you guessed the number in \" + str(guessesTaken) + attempt)\n",
    "else:\n",
    "    print(\" No, you were unable to guess it correctly. the number I was thinking of was \" + str(secretNumber))"
   ]
  },
  {
   "cell_type": "code",
   "execution_count": null,
   "id": "868b84a0",
   "metadata": {},
   "outputs": [],
   "source": []
  }
 ],
 "metadata": {
  "kernelspec": {
   "display_name": "Python 3",
   "language": "python",
   "name": "python3"
  },
  "language_info": {
   "codemirror_mode": {
    "name": "ipython",
    "version": 3
   },
   "file_extension": ".py",
   "mimetype": "text/x-python",
   "name": "python",
   "nbconvert_exporter": "python",
   "pygments_lexer": "ipython3",
   "version": "3.8.8"
  }
 },
 "nbformat": 4,
 "nbformat_minor": 5
}
